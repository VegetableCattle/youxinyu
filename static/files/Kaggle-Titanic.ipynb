{
 "cells": [
  {
   "cell_type": "markdown",
   "metadata": {},
   "source": [
    "## 1.Loading data"
   ]
  },
  {
   "cell_type": "code",
   "execution_count": 1,
   "metadata": {},
   "outputs": [],
   "source": [
    "import pandas as pd \n",
    "import numpy as np\n",
    "import warnings\n",
    "warnings.filterwarnings('ignore')\n",
    "train_data = pd.read_csv('./train.csv')\n",
    "test_data = pd.read_csv('./test.csv')\n",
    "train_y = train_data[\"Survived\"]\n",
    "train_x = train_data\n",
    "# Combining the training set and test\n",
    "all_data = pd.concat((train_x, test_data)).reset_index(drop=True)"
   ]
  },
  {
   "cell_type": "markdown",
   "metadata": {},
   "source": [
    "## 2.Missing value fill"
   ]
  },
  {
   "cell_type": "code",
   "execution_count": 2,
   "metadata": {},
   "outputs": [],
   "source": [
    "# According to the calculation of the median sale price of different positions in different ports, the port closest to the fare is filled with Embarked\n",
    "P1 = all_data[all_data['Pclass']==1][['Fare','Embarked']]\n",
    "P1.groupby('Embarked')['Fare'].median()\n",
    " \n",
    "all_data.loc[829,'Embarked'] = 'C'\n",
    "all_data.loc[61,'Embarked'] = 'C'\n",
    "\n",
    "\n",
    "P3 = all_data[all_data['Pclass']==3][['Fare','Embarked']]\n",
    "P3.groupby('Embarked')['Fare'].median()\n",
    "all_data.loc[1043,'Fare'] = 8.05\n",
    "\n",
    "\n",
    "all_data_Name = all_data['Name']\n",
    "all_data_Family = all_data_Name.str.split(',',expand=True)[0]\n",
    "all_data['Family'] = all_data_Family \n",
    "only_have_Sibsp = all_data[all_data['Age'].isnull()==True][(all_data['SibSp'] > 0) & (all_data['Parch']==0)]\n",
    "Sibsp_ticket = only_have_Sibsp['Ticket'].unique()\n",
    " \n",
    "only_have_Sibsp = all_data[all_data['Age'].isnull()==True][(all_data['SibSp'] > 0) & (all_data['Parch']==0)]\n",
    "Sibsp_ticket = only_have_Sibsp['Ticket'].unique()\n",
    " \n",
    "for f in Sibsp_ticket:\n",
    "    tmp = all_data[all_data['Ticket'] == f][['Ticket','Family','Age']]\n",
    "    for i in tmp['Age'][all_data['Age'].isnull() == True].index :\n",
    "        index_notnull = tmp['Age'][all_data['Age'].isnull() == False].index\n",
    "        for j in index_notnull:\n",
    "            if (all_data.loc[i,'Family'] == all_data.loc[j,'Family'] and all_data.loc[i,'SibSp'] == all_data.loc[j,'SibSp']):\n",
    "                all_data.loc[i,'Age'] =   all_data.loc[j,'Age'] \n",
    "            if (all_data.loc[i,'Parch'] == 0 and all_data.loc[j,'Parch']== 0):\n",
    "                all_data.loc[i,'Age'] = all_data.loc[j,'Age']\n",
    "# Other age data is populated as median\n",
    "all_data['Age'] = all_data['Age'].fillna(all_data['Age'].median())"
   ]
  },
  {
   "cell_type": "markdown",
   "metadata": {},
   "source": [
    "## 3.Adding features"
   ]
  },
  {
   "cell_type": "code",
   "execution_count": 3,
   "metadata": {},
   "outputs": [
    {
     "name": "stdout",
     "output_type": "stream",
     "text": [
      "Number of passengers with family survival information: 420\n",
      "Number of passenger with family/group survival information: 546\n",
      "Number of passenger with family/group survival information: 546\n"
     ]
    }
   ],
   "source": [
    "# 1. Family Survival Rate\n",
    "# 2. Age ranking by class\n",
    "# 3. Ranking of fares by class\n",
    "# 4. Number of relatives (simple addition)\n",
    "# 5. Are there siblings\n",
    "# 6. Are there children or parents\n",
    "# 7. Are you alone\n",
    " \n",
    "DEFAULT_SURVIVAL_VALUE = 0.5\n",
    "all_data['Family_Survival'] = DEFAULT_SURVIVAL_VALUE\n",
    " \n",
    "for grp, grp_df in all_data[['Survived','Name', 'Family', 'Fare', 'Ticket', 'PassengerId',\n",
    "                           'SibSp', 'Parch', 'Age', 'Cabin']].groupby(['Family', 'Fare']):\n",
    "    \n",
    "    if (len(grp_df) != 1):\n",
    "        for ind, row in grp_df.iterrows():\n",
    "            smax = grp_df.drop(ind)['Survived'].max()\n",
    "            smin = grp_df.drop(ind)['Survived'].min()\n",
    "            passID = row['PassengerId']\n",
    "            if (smax == 1.0):\n",
    "                all_data.loc[all_data['PassengerId'] == passID, 'Family_Survival'] = 1\n",
    "            elif (smin==0.0):\n",
    "                all_data.loc[all_data['PassengerId'] == passID, 'Family_Survival'] = 0\n",
    "                \n",
    "print(\"Number of passengers with family survival information:\", \n",
    "      all_data.loc[all_data['Family_Survival']!=0.5].shape[0])\n",
    "\n",
    "for _, grp_df in all_data.groupby('Ticket'):\n",
    "    if (len(grp_df) != 1):\n",
    "        for ind, row in grp_df.iterrows():\n",
    "            if (row['Family_Survival'] == 0) | (row['Family_Survival']== 0.5):\n",
    "                smax = grp_df.drop(ind)['Survived'].max()\n",
    "                smin = grp_df.drop(ind)['Survived'].min()\n",
    "                passID = row['PassengerId']\n",
    "                if (smax == 1.0):\n",
    "                    all_data.loc[all_data['PassengerId'] == passID, 'Family_Survival'] = 1\n",
    "                elif (smin==0.0):\n",
    "                    all_data.loc[all_data['PassengerId'] == passID, 'Family_Survival'] = 0\n",
    "                        \n",
    "print(\"Number of passenger with family/group survival information: \" \n",
    "      +str(all_data[all_data['Family_Survival']!=0.5].shape[0]))\n",
    "\n",
    "for _, grp_df in all_data.groupby('Ticket'):\n",
    "    if (len(grp_df) != 1):\n",
    "        for ind, row in grp_df.iterrows():\n",
    "            if (row['Family_Survival'] == 0) | (row['Family_Survival']== 0.5):\n",
    "                smax = grp_df.drop(ind)['Survived'].max()\n",
    "                smin = grp_df.drop(ind)['Survived'].min()\n",
    "                passID = row['PassengerId']\n",
    "                if (smax == 1.0):\n",
    "                    all_data.loc[all_data['PassengerId'] == passID, 'Family_Survival'] = 1\n",
    "                elif (smin==0.0):\n",
    "                    all_data.loc[all_data['PassengerId'] == passID, 'Family_Survival'] = 0\n",
    "                        \n",
    "print(\"Number of passenger with family/group survival information: \" \n",
    "      +str(all_data[all_data['Family_Survival']!=0.5].shape[0]))\n",
    "#2\n",
    "tmp  = all_data[all_data['Pclass'] == 1]\n",
    "r = 0\n",
    "pre = 0 \n",
    "for i in tmp.sort_values('Age').index:\n",
    "    if pre < all_data.loc[i,'Age']: r = r + 1\n",
    "    all_data.loc[i,'Pclass1_Age_Rank'] = r\n",
    "    pre = all_data.loc[i,'Age']\n",
    "\n",
    "tmp  = all_data[all_data['Pclass'] == 2]\n",
    "r = 0\n",
    "pre = 0\n",
    "for i in tmp.sort_values('Age').index:\n",
    "    if pre < all_data.loc[i,'Age']: r = r + 1\n",
    "    all_data.loc[i,'Pclass2_Age_Rank'] = r\n",
    "\n",
    "tmp  = all_data[all_data['Pclass'] == 3]\n",
    "r = 0\n",
    "pre = 0\n",
    "for i in tmp.sort_values('Age').index:\n",
    "    if pre < all_data.loc[i,'Age']:  r = r + 1\n",
    "    all_data.loc[i,'Pclass3_Age_Rank'] = r\n",
    "\n",
    "all_data['Pclass1_Age_Rank'] = all_data['Pclass1_Age_Rank'].fillna(0)\n",
    "all_data['Pclass2_Age_Rank'] = all_data['Pclass2_Age_Rank'].fillna(0)\n",
    "all_data['Pclass3_Age_Rank'] = all_data['Pclass3_Age_Rank'].fillna(0)\n",
    "tmp = all_data[(all_data['Pclass'] == 1)]\n",
    "r = 0\n",
    "pre = 0 \n",
    "for i in tmp.sort_values('Fare').index:\n",
    "    if pre < all_data.loc[i,'Fare'] : r = r + 1\n",
    "    all_data.loc[i,'Pclass1_Fare_Rank'] = r\n",
    "\n",
    "tmp = all_data[(all_data['Pclass'] == 2)]\n",
    "r = 0\n",
    "pre = 0\n",
    "for i in tmp.sort_values('Fare').index:\n",
    "    if pre < all_data.loc[i,'Fare'] : r = r + 1\n",
    "    all_data.loc[i,'Pclass2_Fare_Rank'] = r\n",
    "\n",
    "tmp = all_data[(all_data['Pclass'] == 3)]\n",
    "r = 0\n",
    "pre = 0\n",
    "for i in tmp.sort_values('Fare').index:\n",
    "    if pre < all_data.loc[i,'Fare'] : r = r + 1\n",
    "    all_data.loc[i,'Pclass3_Fare_Rank'] = r\n",
    "    \n",
    "all_data['Pclass1_Fare_Rank'] = all_data['Pclass1_Fare_Rank'].fillna(0)\n",
    "all_data['Pclass2_Fare_Rank'] = all_data['Pclass2_Fare_Rank'].fillna(0)\n",
    "all_data['Pclass3_Fare_Rank'] = all_data['Pclass3_Fare_Rank'].fillna(0)\n",
    "all_data['Family_Size'] = all_data['Parch'] + all_data['SibSp'] + 1\n",
    "all_data['Have_SibSp'] = all_data['SibSp'].apply(lambda x:1 if x>0 else 0)\n",
    "all_data['Have_Parch'] = all_data['Parch'].apply(lambda x:1 if x>0 else 0)\n",
    "all_data['Is_Alone'] = 1\n",
    "all_data['Is_Alone'].loc[all_data['Family_Size'] > 1] = 0"
   ]
  },
  {
   "cell_type": "markdown",
   "metadata": {},
   "source": [
    "## 4.Remove features that do not participate in model training"
   ]
  },
  {
   "cell_type": "code",
   "execution_count": 4,
   "metadata": {},
   "outputs": [],
   "source": [
    "all_data.drop(\"PassengerId\",axis = 1, inplace = True)\n",
    "all_data.drop(\"Cabin\",axis = 1, inplace = True)\n",
    "all_data.drop(\"Ticket\",axis = 1,inplace = True)\n",
    "all_data.drop(\"Name\",axis = 1,inplace = True)\n",
    "all_data.drop(\"Family\",axis = 1, inplace = True)\n",
    "all_data.drop(\"Survived\",axis = 1, inplace = True)"
   ]
  },
  {
   "cell_type": "markdown",
   "metadata": {},
   "source": [
    "## 5. Coding categorical variables"
   ]
  },
  {
   "cell_type": "code",
   "execution_count": 5,
   "metadata": {},
   "outputs": [],
   "source": [
    "def encoder(x):\n",
    "    if x == 'C':\n",
    "        return 1\n",
    "    elif x=='Q':\n",
    "        return 2\n",
    "    else:\n",
    "        return 3\n",
    "# Encode feature Embarked\n",
    "all_data['Embarked'] = all_data['Embarked'].apply(lambda x: encoder(x))\n",
    "\n",
    "all_data['Sex'] = all_data['Sex'].astype(str)\n",
    "# One-hot encoding of category data\n",
    "all_data = pd.get_dummies(all_data)"
   ]
  },
  {
   "cell_type": "markdown",
   "metadata": {},
   "source": [
    "## 6.Divide the data into training and test sets"
   ]
  },
  {
   "cell_type": "code",
   "execution_count": 6,
   "metadata": {},
   "outputs": [],
   "source": [
    "n_train = len(train_x)\n",
    "train_x = all_data[:n_train] \n",
    "test_x  = all_data[n_train:]"
   ]
  },
  {
   "cell_type": "markdown",
   "metadata": {},
   "source": [
    "## 7.Model training"
   ]
  },
  {
   "cell_type": "code",
   "execution_count": 7,
   "metadata": {},
   "outputs": [],
   "source": [
    "from sklearn.pipeline import make_pipeline\n",
    "from sklearn.preprocessing import StandardScaler\n",
    "from sklearn import svm,feature_selection\n",
    "from sklearn.model_selection import StratifiedKFold, cross_val_score\n",
    "import warnings\n",
    "warnings.filterwarnings('ignore')\n",
    "def acc_cv(model):\n",
    "    n_folds = 5\n",
    "    skf = StratifiedKFold(n_folds, shuffle=True, random_state= 8)#for shuffle data\n",
    "    acc = cross_val_score(model, train_x.values,train_y, scoring=\"accuracy\", cv = skf)\n",
    "    return(acc.mean(),acc.std())\n",
    "rbf_svc = make_pipeline(StandardScaler(), svm.SVC(C=1.0,random_state=2))\n",
    "acc_cv(rbf_svc)\n",
    "\n",
    "rbf_svc.fit(train_x.values,train_y.values)\n",
    "test_y = rbf_svc.predict(test_x.values)\n",
    "\n",
    "sub = pd.DataFrame()\n",
    "sub['PassengerId'] = test_data['PassengerId']\n",
    "sub['Survived'] = test_y\n",
    "sub.to_csv('yongli_submission_0302.csv',index=False)"
   ]
  },
  {
   "cell_type": "markdown",
   "metadata": {},
   "source": [
    "## 8.Report\n",
    "### (1)Title link\n",
    "[Titanic: Machine Learning from Disaster](https://www.kaggle.com/c/titanic)\n",
    "\n",
    "### (2)References\n",
    "[Titanic - Advanced Feature Engineering Tutorial](https://www.kaggle.com/gunesevitan/titanic-advanced-feature-engineering-tutorial/)\n",
    "\n",
    "[Titanic Tutorial](https://www.kaggle.com/alexisbcook/titanic-tutorial)\n",
    "\n",
    "[Titanic [0.82] - [0.83]](https://www.kaggle.com/alexisbcook/titanic-tutorial)\n",
    "\n",
    "### (3)Grades & Ranking\n",
    "Yong Li\n",
    "\n",
    "Ranking:482\n",
    "\n",
    "Grades:0.82296\n",
    "\n"
   ]
  },
  {
   "cell_type": "code",
   "execution_count": null,
   "metadata": {},
   "outputs": [],
   "source": []
  }
 ],
 "metadata": {
  "kernelspec": {
   "display_name": "Python 3",
   "language": "python",
   "name": "python3"
  },
  "language_info": {
   "codemirror_mode": {
    "name": "ipython",
    "version": 3
   },
   "file_extension": ".py",
   "mimetype": "text/x-python",
   "name": "python",
   "nbconvert_exporter": "python",
   "pygments_lexer": "ipython3",
   "version": "3.7.3"
  }
 },
 "nbformat": 4,
 "nbformat_minor": 4
}
